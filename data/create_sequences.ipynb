{
 "metadata": {
  "language_info": {
   "codemirror_mode": {
    "name": "ipython",
    "version": 3
   },
   "file_extension": ".py",
   "mimetype": "text/x-python",
   "name": "python",
   "nbconvert_exporter": "python",
   "pygments_lexer": "ipython3",
   "version": "3.8.5-final"
  },
  "orig_nbformat": 2,
  "kernelspec": {
   "name": "python3",
   "display_name": "Python 3.8.5 64-bit ('base': conda)",
   "metadata": {
    "interpreter": {
     "hash": "dca0ade3e726a953b501b15e8e990130d2b7799f14cfd9f4271676035ebe5511"
    }
   }
  }
 },
 "nbformat": 4,
 "nbformat_minor": 2,
 "cells": [
  {
   "cell_type": "code",
   "execution_count": 21,
   "metadata": {},
   "outputs": [],
   "source": [
    "import pandas as pd\n",
    "from sklearn import preprocessing\n",
    "from collections import deque\n",
    "import numpy as np\n",
    "from itertools import islice\n",
    "from numpy import random"
   ]
  },
  {
   "cell_type": "code",
   "execution_count": 2,
   "metadata": {},
   "outputs": [
    {
     "output_type": "execute_result",
     "data": {
      "text/plain": [
       "             TSLA       MSFT        GOOG       PFE      AAPL        AMZN  \\\n",
       "date                                                                       \n",
       "2010-06-29  4.778  18.280058  226.281845  9.088278  7.880552  108.610001   \n",
       "2010-06-30  4.766  18.044788  221.644226  9.075546  7.737815  109.260002   \n",
       "2010-07-01  4.392  18.162430  218.924423  9.056454  7.643986  110.959999   \n",
       "2010-07-02  3.840  18.248686  217.459900  8.999177  7.596610  109.139999   \n",
       "2010-07-06  3.222  18.680012  217.220810  9.094641  7.648601  110.059998   \n",
       "\n",
       "                  SPY       ICLN        XOM        WBA  \n",
       "date                                                    \n",
       "2010-06-29  84.502396  11.210094  38.263123  20.278431  \n",
       "2010-06-30  83.699646  11.171836  38.116188  20.439186  \n",
       "2010-07-01  83.326614  11.393739  37.808968  20.332008  \n",
       "2010-07-02  82.872505  11.592691  37.782242  20.178911  \n",
       "2010-07-06  83.415825  11.745731  38.376659  20.377951  "
      ],
      "text/html": "<div>\n<style scoped>\n    .dataframe tbody tr th:only-of-type {\n        vertical-align: middle;\n    }\n\n    .dataframe tbody tr th {\n        vertical-align: top;\n    }\n\n    .dataframe thead th {\n        text-align: right;\n    }\n</style>\n<table border=\"1\" class=\"dataframe\">\n  <thead>\n    <tr style=\"text-align: right;\">\n      <th></th>\n      <th>TSLA</th>\n      <th>MSFT</th>\n      <th>GOOG</th>\n      <th>PFE</th>\n      <th>AAPL</th>\n      <th>AMZN</th>\n      <th>SPY</th>\n      <th>ICLN</th>\n      <th>XOM</th>\n      <th>WBA</th>\n    </tr>\n    <tr>\n      <th>date</th>\n      <th></th>\n      <th></th>\n      <th></th>\n      <th></th>\n      <th></th>\n      <th></th>\n      <th></th>\n      <th></th>\n      <th></th>\n      <th></th>\n    </tr>\n  </thead>\n  <tbody>\n    <tr>\n      <th>2010-06-29</th>\n      <td>4.778</td>\n      <td>18.280058</td>\n      <td>226.281845</td>\n      <td>9.088278</td>\n      <td>7.880552</td>\n      <td>108.610001</td>\n      <td>84.502396</td>\n      <td>11.210094</td>\n      <td>38.263123</td>\n      <td>20.278431</td>\n    </tr>\n    <tr>\n      <th>2010-06-30</th>\n      <td>4.766</td>\n      <td>18.044788</td>\n      <td>221.644226</td>\n      <td>9.075546</td>\n      <td>7.737815</td>\n      <td>109.260002</td>\n      <td>83.699646</td>\n      <td>11.171836</td>\n      <td>38.116188</td>\n      <td>20.439186</td>\n    </tr>\n    <tr>\n      <th>2010-07-01</th>\n      <td>4.392</td>\n      <td>18.162430</td>\n      <td>218.924423</td>\n      <td>9.056454</td>\n      <td>7.643986</td>\n      <td>110.959999</td>\n      <td>83.326614</td>\n      <td>11.393739</td>\n      <td>37.808968</td>\n      <td>20.332008</td>\n    </tr>\n    <tr>\n      <th>2010-07-02</th>\n      <td>3.840</td>\n      <td>18.248686</td>\n      <td>217.459900</td>\n      <td>8.999177</td>\n      <td>7.596610</td>\n      <td>109.139999</td>\n      <td>82.872505</td>\n      <td>11.592691</td>\n      <td>37.782242</td>\n      <td>20.178911</td>\n    </tr>\n    <tr>\n      <th>2010-07-06</th>\n      <td>3.222</td>\n      <td>18.680012</td>\n      <td>217.220810</td>\n      <td>9.094641</td>\n      <td>7.648601</td>\n      <td>110.059998</td>\n      <td>83.415825</td>\n      <td>11.745731</td>\n      <td>38.376659</td>\n      <td>20.377951</td>\n    </tr>\n  </tbody>\n</table>\n</div>"
     },
     "metadata": {},
     "execution_count": 2
    }
   ],
   "source": [
    "df = pd.read_csv('data/cleaned/dataframe')\n",
    "df.set_index('Unnamed: 0', inplace=True)\n",
    "df.index.names = ['date']\n",
    "df.head()"
   ]
  },
  {
   "cell_type": "code",
   "execution_count": 3,
   "metadata": {},
   "outputs": [],
   "source": [
    "dates = sorted(df.index.values)\n",
    "last_5pct = sorted(df.index.values)[-int(0.05*len(dates))]\n",
    "df_val = df[(df.index >= last_5pct)]\n",
    "df_train = df[(df.index < last_5pct)]"
   ]
  },
  {
   "cell_type": "code",
   "execution_count": 29,
   "metadata": {
    "tags": []
   },
   "outputs": [],
   "source": [
    "b = 30\n",
    "f = 5\n",
    "w = b + f\n",
    "sequential_data = []\n",
    "prev_days = deque(maxlen=w)\n",
    "for col in df_train.columns:\n",
    "    df = df_train[col].pct_change()\n",
    "    df.dropna(inplace=True)\n",
    "    seq = []\n",
    "    for i in df.values:\n",
    "        prev_days.append(i)\n",
    "        if len(prev_days) == w:\n",
    "            pd = np.array(list(prev_days))\n",
    "            b_seq = pd[:b]\n",
    "            b_min_max = max((abs(b_seq.min()), abs(b_seq.max())))\n",
    "            b_seq = np.interp(b_seq, (-b_min_max, b_min_max), (-1, +1))\n",
    "            f_seq = np.interp(pd[-f:], (-b_min_max, b_min_max), (-1, +1))\n",
    "            seq.append([np.array(b_seq), np.array(f_seq)])\n",
    "    sequential_data.append(seq)\n",
    "for i in range(len(sequential_data)):\n",
    "    random.shuffle(sequential_data[i])\n",
    "sequential_data = np.array(sequential_data)"
   ]
  },
  {
   "cell_type": "code",
   "execution_count": 31,
   "metadata": {
    "tags": []
   },
   "outputs": [
    {
     "output_type": "stream",
     "name": "stdout",
     "text": [
      "10\n2274\n2\n30\n5\n[-0.23848881 -1.          0.38343267  0.14913333  0.10803994 -0.22891692\n -0.31160378 -0.10927355 -0.06849458  0.43917479  0.21706243  0.29677497\n  0.12046417  0.440303    0.05275492 -0.02633031 -0.14498574  0.\n -0.25140036  0.79915418  0.33916965  0.09049669 -0.18056963 -0.1166345\n  0.23399513  0.2196452   0.16698769 -0.25787183 -0.1557934   0.33893303]\n"
     ]
    }
   ],
   "source": [
    "print(len(sequential_data)) # Assets\n",
    "print(len(sequential_data[1])) # Sequences\n",
    "print(len(sequential_data[2][2])) # b, f\n",
    "print(len(sequential_data[3][3][0])) # b\n",
    "print(len(sequential_data[3][3][1])) # f\n",
    "print(sequential_data[3][3][0])"
   ]
  },
  {
   "cell_type": "code",
   "execution_count": 32,
   "metadata": {},
   "outputs": [],
   "source": [
    "np.save('data/preprocessed/prices', sequential_data)"
   ]
  },
  {
   "cell_type": "code",
   "execution_count": null,
   "metadata": {},
   "outputs": [],
   "source": []
  }
 ]
}