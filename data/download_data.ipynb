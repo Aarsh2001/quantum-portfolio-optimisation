{
 "metadata": {
  "language_info": {
   "codemirror_mode": {
    "name": "ipython",
    "version": 3
   },
   "file_extension": ".py",
   "mimetype": "text/x-python",
   "name": "python",
   "nbconvert_exporter": "python",
   "pygments_lexer": "ipython3",
   "version": "3.8.5-final"
  },
  "orig_nbformat": 2,
  "kernelspec": {
   "name": "python3",
   "display_name": "Python 3.8.5 64-bit ('base': conda)",
   "metadata": {
    "interpreter": {
     "hash": "dca0ade3e726a953b501b15e8e990130d2b7799f14cfd9f4271676035ebe5511"
    }
   }
  }
 },
 "nbformat": 4,
 "nbformat_minor": 2,
 "cells": [
  {
   "cell_type": "code",
   "execution_count": 2,
   "metadata": {},
   "outputs": [],
   "source": [
    "import pandas as pd\n",
    "import yfinance as yf\n",
    "from yahoofinancials import YahooFinancials"
   ]
  },
  {
   "cell_type": "code",
   "execution_count": 3,
   "metadata": {
    "tags": []
   },
   "outputs": [],
   "source": [
    "assets = ['TSLA', 'MSFT', 'GOOG', 'PFE', 'AAPL', 'AMZN', 'SPY', 'ICLN', 'XOM', 'WBA']"
   ]
  },
  {
   "cell_type": "code",
   "execution_count": 4,
   "metadata": {},
   "outputs": [],
   "source": [
    "for asset in assets:\n",
    "    yahoo_financials = YahooFinancials(asset)\n",
    "    data = yahoo_financials.get_historical_price_data(start_date='2010-01-01', end_date='2020-01-01', time_interval='daily')\n",
    "    df = pd.DataFrame(data[asset]['prices'])\n",
    "    df = df.drop('date', axis=1).set_index('formatted_date')\n",
    "    Path = f'data/{asset}'\n",
    "    df.to_csv(Path)"
   ]
  },
  {
   "cell_type": "code",
   "execution_count": 5,
   "metadata": {},
   "outputs": [
    {
     "output_type": "execute_result",
     "data": {
      "text/plain": [
       "                     high        low       open      close    volume  \\\n",
       "formatted_date                                                         \n",
       "2010-01-04      37.299999  36.639999  37.009998  37.299999   8171000   \n",
       "2010-01-05      37.160000  36.619999  37.099998  37.000000  10843200   \n",
       "2010-01-06      37.290001  35.919998  36.160000  36.720001   8945400   \n",
       "2010-01-07      37.000000  36.470001  36.689999  36.939999   5040700   \n",
       "2010-01-08      37.070000  36.650002  36.919998  36.990002   6139800   \n",
       "\n",
       "                 adjclose  \n",
       "formatted_date             \n",
       "2010-01-04      28.326071  \n",
       "2010-01-05      28.098249  \n",
       "2010-01-06      27.885616  \n",
       "2010-01-07      28.052691  \n",
       "2010-01-08      28.090660  "
      ],
      "text/html": "<div>\n<style scoped>\n    .dataframe tbody tr th:only-of-type {\n        vertical-align: middle;\n    }\n\n    .dataframe tbody tr th {\n        vertical-align: top;\n    }\n\n    .dataframe thead th {\n        text-align: right;\n    }\n</style>\n<table border=\"1\" class=\"dataframe\">\n  <thead>\n    <tr style=\"text-align: right;\">\n      <th></th>\n      <th>high</th>\n      <th>low</th>\n      <th>open</th>\n      <th>close</th>\n      <th>volume</th>\n      <th>adjclose</th>\n    </tr>\n    <tr>\n      <th>formatted_date</th>\n      <th></th>\n      <th></th>\n      <th></th>\n      <th></th>\n      <th></th>\n      <th></th>\n    </tr>\n  </thead>\n  <tbody>\n    <tr>\n      <th>2010-01-04</th>\n      <td>37.299999</td>\n      <td>36.639999</td>\n      <td>37.009998</td>\n      <td>37.299999</td>\n      <td>8171000</td>\n      <td>28.326071</td>\n    </tr>\n    <tr>\n      <th>2010-01-05</th>\n      <td>37.160000</td>\n      <td>36.619999</td>\n      <td>37.099998</td>\n      <td>37.000000</td>\n      <td>10843200</td>\n      <td>28.098249</td>\n    </tr>\n    <tr>\n      <th>2010-01-06</th>\n      <td>37.290001</td>\n      <td>35.919998</td>\n      <td>36.160000</td>\n      <td>36.720001</td>\n      <td>8945400</td>\n      <td>27.885616</td>\n    </tr>\n    <tr>\n      <th>2010-01-07</th>\n      <td>37.000000</td>\n      <td>36.470001</td>\n      <td>36.689999</td>\n      <td>36.939999</td>\n      <td>5040700</td>\n      <td>28.052691</td>\n    </tr>\n    <tr>\n      <th>2010-01-08</th>\n      <td>37.070000</td>\n      <td>36.650002</td>\n      <td>36.919998</td>\n      <td>36.990002</td>\n      <td>6139800</td>\n      <td>28.090660</td>\n    </tr>\n  </tbody>\n</table>\n</div>"
     },
     "metadata": {},
     "execution_count": 5
    }
   ],
   "source": [
    "df.head()"
   ]
  },
  {
   "cell_type": "code",
   "execution_count": null,
   "metadata": {},
   "outputs": [],
   "source": []
  }
 ]
}