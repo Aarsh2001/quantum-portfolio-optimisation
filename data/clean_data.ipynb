{
 "metadata": {
  "language_info": {
   "codemirror_mode": {
    "name": "ipython",
    "version": 3
   },
   "file_extension": ".py",
   "mimetype": "text/x-python",
   "name": "python",
   "nbconvert_exporter": "python",
   "pygments_lexer": "ipython3",
   "version": "3.8.5-final"
  },
  "orig_nbformat": 2,
  "kernelspec": {
   "name": "python3",
   "display_name": "Python 3.8.5 64-bit ('base': conda)",
   "metadata": {
    "interpreter": {
     "hash": "dca0ade3e726a953b501b15e8e990130d2b7799f14cfd9f4271676035ebe5511"
    }
   }
  }
 },
 "nbformat": 4,
 "nbformat_minor": 2,
 "cells": [
  {
   "cell_type": "code",
   "execution_count": 2,
   "metadata": {},
   "outputs": [],
   "source": [
    "import pandas as pd"
   ]
  },
  {
   "cell_type": "code",
   "execution_count": 5,
   "metadata": {},
   "outputs": [],
   "source": [
    "main_df = pd.DataFrame()\n",
    "assets = ['TSLA', 'MSFT', 'GOOG', 'PFE', 'AAPL', 'AMZN', 'SPY', 'ICLN', 'XOM', 'WBA']\n",
    "for asset in assets:\n",
    "    dataset = f'training_data/unmodified/{asset}'\n",
    "    df = pd.read_csv(dataset, names=['high','low','open','close','volume','adjclose'])\n",
    "    df = df[['adjclose']][1:]\n",
    "    header = [f'{asset}']\n",
    "    df.columns = header\n",
    "    \n",
    "    if len(main_df)==0:\n",
    "        main_df = df\n",
    "    else:\n",
    "        main_df = main_df.join(df)\n",
    "\n",
    "main_df.fillna(method='ffill', inplace=True)\n",
    "main_df.dropna(inplace=True)\n",
    "main_df.head()\n",
    "Path = 'training_data/cleaned/dataframe'\n",
    "main_df.to_csv(Path)"
   ]
  },
  {
   "cell_type": "code",
   "execution_count": null,
   "metadata": {},
   "outputs": [],
   "source": []
  }
 ]
}